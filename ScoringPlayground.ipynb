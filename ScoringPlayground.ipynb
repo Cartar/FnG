{
 "cells": [
  {
   "cell_type": "code",
   "execution_count": 1,
   "id": "e97fb6fe-e309-43dd-9794-f62ba6001db7",
   "metadata": {},
   "outputs": [],
   "source": [
    "import pandas as pd\n",
    "from datetime import datetime"
   ]
  },
  {
   "cell_type": "code",
   "execution_count": 2,
   "id": "620c3b01-e3a6-466b-b493-35bba3800bb0",
   "metadata": {},
   "outputs": [],
   "source": [
    "result_cols = [\"Bib\", \"Name\", \"Run1\", \"Run2\"]\n",
    "#result_cols_keep = [\"Bib\", \"Name\", \"Run1\", \"Run2\"]\n",
    "startList_cols_keep = [\"Bib\", \"Name\", \"Team\", \"Club\"]"
   ]
  },
  {
   "cell_type": "code",
   "execution_count": 3,
   "id": "9314c28c-3c5a-400f-afec-e316b9787b03",
   "metadata": {},
   "outputs": [],
   "source": [
    "results1 = pd.read_csv('data/140124FnGResultsBoth.csv', header=None, names=result_cols)\n",
    "results2 = pd.read_csv('data/210124FnGResultsBoth.csv', header=None, names=result_cols)\n",
    "startList = pd.read_csv('data/24FnGStartList.csv')[startList_cols_keep]"
   ]
  },
  {
   "cell_type": "code",
   "execution_count": 4,
   "id": "af31c905-96df-47fb-b412-e9979ba015cb",
   "metadata": {},
   "outputs": [],
   "source": [
    "startList.columns = [\"Bib\", \"Name\", \"Tier\", \"Club\"]"
   ]
  },
  {
   "cell_type": "code",
   "execution_count": 5,
   "id": "bad0b0f5-db3c-4fbb-b21d-cce20f541dea",
   "metadata": {},
   "outputs": [],
   "source": [
    "combined1 = startList.merge(results1, how=\"left\", on=[\"Bib\", \"Name\"])\n",
    "combined2 = startList.merge(results2, how=\"left\", on=[\"Bib\", \"Name\"])"
   ]
  },
  {
   "cell_type": "code",
   "execution_count": 6,
   "id": "a4a47ace-3535-47e5-a1ca-b0e46b69db7b",
   "metadata": {},
   "outputs": [],
   "source": [
    "def calculate_points_corrected(df):\n",
    "    df.replace({'DNF': 9998,\"DSQ\": 9998, \"DNS\": 9999, pd.NA: 9999}, inplace=True)\n",
    "    df['Run1'] = pd.to_numeric(df['Run1']) # errors='coerce')\n",
    "    df['Run2'] = pd.to_numeric(df['Run2']) # errors='coerce')\n",
    "    df['Best Time'] = df[['Run1', 'Run2']].min(axis=1)\n",
    "    # Initialize a column for points\n",
    "    df['Points'] = 0\n",
    "    \n",
    "    # Process each tier\n",
    "    for tier in df['Tier'].unique():\n",
    "        # Filter the tier\n",
    "        tier_df = df[df['Tier'] == tier]\n",
    "    \n",
    "        # Sort by best time\n",
    "        tier_sorted = tier_df.sort_values(by='Best Time')\n",
    "    \n",
    "        # Assign points based on the number of racers in the tier\n",
    "        num_racers = len(tier_sorted)\n",
    "        tier_sorted['Points'] = range(8, 8-num_racers, -1)\n",
    "    \n",
    "        # Set absent racer points to zero:\n",
    "        tier_sorted.loc[tier_sorted['Best Time'] == 9999, 'Points'] = 0\n",
    "        \n",
    "        # Handle ties for DNF (split points for racers with 9998 as their best time)\n",
    "        dnf_racers = tier_sorted[tier_sorted['Best Time'] == 9998]\n",
    "        if not dnf_racers.empty:\n",
    "            dnf_points = dnf_racers['Points'].sum() / len(dnf_racers)\n",
    "            tier_sorted.loc[tier_sorted['Best Time'] == 9998, 'Points'] = dnf_points\n",
    "    \n",
    "        # Update the main dataframe\n",
    "        df.loc[df['Tier'] == tier, 'Points'] = tier_sorted['Points']\n",
    "\n",
    "    # Calculate team points\n",
    "    teams = df['Club'].unique()\n",
    "    team_dfs = []\n",
    "    team_points = {}\n",
    "    for team in teams:\n",
    "        team_df = df[df['Club'] == team]\n",
    "        # If a team is missing a racer in a tier, give them the average points of that tier\n",
    "        for tier in df['Tier'].unique():\n",
    "            if tier not in team_df['Tier'].values:\n",
    "                #avg_points = df[df['Tier'] == tier]['Points'].mean()\n",
    "                #team_df.loc[len(team_df)] = [pd.NA, pd.NA, tier, team, pd.NA, pd.NA, pd.NA, avg_points]\n",
    "                team_df.loc[-1] = [pd.NA, pd.NA, tier, team, pd.NA, pd.NA, pd.NA, 4.5] #, avg_points]\n",
    "                team_df.reset_index(drop=True, inplace=True)\n",
    "        team_points[team] = team_df['Points'].sum()\n",
    "        team_dfs.append(team_df)\n",
    "    \n",
    "    df_out = pd.concat(team_dfs)\n",
    "    \n",
    "    return team_points, df_out\n",
    "    "
   ]
  },
  {
   "cell_type": "code",
   "execution_count": 7,
   "id": "e92cbf7e-3889-419d-8ceb-f37984578125",
   "metadata": {},
   "outputs": [
    {
     "name": "stderr",
     "output_type": "stream",
     "text": [
      "/var/folders/xl/qrck89yn5kq2bhd8vf0657700000gn/T/ipykernel_97640/3388888520.py:44: FutureWarning: The behavior of DataFrame concatenation with empty or all-NA entries is deprecated. In a future version, this will no longer exclude empty or all-NA columns when determining the result dtypes. To retain the old behavior, exclude the relevant entries before the concat operation.\n",
      "  team_df.loc[-1] = [pd.NA, pd.NA, tier, team, pd.NA, pd.NA, pd.NA, 4.5] #, avg_points]\n",
      "/var/folders/xl/qrck89yn5kq2bhd8vf0657700000gn/T/ipykernel_97640/3388888520.py:44: SettingWithCopyWarning: \n",
      "A value is trying to be set on a copy of a slice from a DataFrame\n",
      "\n",
      "See the caveats in the documentation: https://pandas.pydata.org/pandas-docs/stable/user_guide/indexing.html#returning-a-view-versus-a-copy\n",
      "  team_df.loc[-1] = [pd.NA, pd.NA, tier, team, pd.NA, pd.NA, pd.NA, 4.5] #, avg_points]\n",
      "/var/folders/xl/qrck89yn5kq2bhd8vf0657700000gn/T/ipykernel_97640/3388888520.py:44: FutureWarning: The behavior of DataFrame concatenation with empty or all-NA entries is deprecated. In a future version, this will no longer exclude empty or all-NA columns when determining the result dtypes. To retain the old behavior, exclude the relevant entries before the concat operation.\n",
      "  team_df.loc[-1] = [pd.NA, pd.NA, tier, team, pd.NA, pd.NA, pd.NA, 4.5] #, avg_points]\n",
      "/var/folders/xl/qrck89yn5kq2bhd8vf0657700000gn/T/ipykernel_97640/3388888520.py:44: SettingWithCopyWarning: \n",
      "A value is trying to be set on a copy of a slice from a DataFrame\n",
      "\n",
      "See the caveats in the documentation: https://pandas.pydata.org/pandas-docs/stable/user_guide/indexing.html#returning-a-view-versus-a-copy\n",
      "  team_df.loc[-1] = [pd.NA, pd.NA, tier, team, pd.NA, pd.NA, pd.NA, 4.5] #, avg_points]\n",
      "/var/folders/xl/qrck89yn5kq2bhd8vf0657700000gn/T/ipykernel_97640/3388888520.py:44: FutureWarning: The behavior of DataFrame concatenation with empty or all-NA entries is deprecated. In a future version, this will no longer exclude empty or all-NA columns when determining the result dtypes. To retain the old behavior, exclude the relevant entries before the concat operation.\n",
      "  team_df.loc[-1] = [pd.NA, pd.NA, tier, team, pd.NA, pd.NA, pd.NA, 4.5] #, avg_points]\n",
      "/var/folders/xl/qrck89yn5kq2bhd8vf0657700000gn/T/ipykernel_97640/3388888520.py:44: SettingWithCopyWarning: \n",
      "A value is trying to be set on a copy of a slice from a DataFrame\n",
      "\n",
      "See the caveats in the documentation: https://pandas.pydata.org/pandas-docs/stable/user_guide/indexing.html#returning-a-view-versus-a-copy\n",
      "  team_df.loc[-1] = [pd.NA, pd.NA, tier, team, pd.NA, pd.NA, pd.NA, 4.5] #, avg_points]\n",
      "/var/folders/xl/qrck89yn5kq2bhd8vf0657700000gn/T/ipykernel_97640/3388888520.py:44: FutureWarning: The behavior of DataFrame concatenation with empty or all-NA entries is deprecated. In a future version, this will no longer exclude empty or all-NA columns when determining the result dtypes. To retain the old behavior, exclude the relevant entries before the concat operation.\n",
      "  team_df.loc[-1] = [pd.NA, pd.NA, tier, team, pd.NA, pd.NA, pd.NA, 4.5] #, avg_points]\n",
      "/var/folders/xl/qrck89yn5kq2bhd8vf0657700000gn/T/ipykernel_97640/3388888520.py:44: SettingWithCopyWarning: \n",
      "A value is trying to be set on a copy of a slice from a DataFrame\n",
      "\n",
      "See the caveats in the documentation: https://pandas.pydata.org/pandas-docs/stable/user_guide/indexing.html#returning-a-view-versus-a-copy\n",
      "  team_df.loc[-1] = [pd.NA, pd.NA, tier, team, pd.NA, pd.NA, pd.NA, 4.5] #, avg_points]\n"
     ]
    }
   ],
   "source": [
    "team_points1, _ = calculate_points_corrected(combined1)"
   ]
  },
  {
   "cell_type": "code",
   "execution_count": 8,
   "id": "e2abac1c-0573-410d-9146-61de9061f2d7",
   "metadata": {
    "scrolled": true
   },
   "outputs": [
    {
     "name": "stderr",
     "output_type": "stream",
     "text": [
      "/var/folders/xl/qrck89yn5kq2bhd8vf0657700000gn/T/ipykernel_97640/3388888520.py:44: FutureWarning: The behavior of DataFrame concatenation with empty or all-NA entries is deprecated. In a future version, this will no longer exclude empty or all-NA columns when determining the result dtypes. To retain the old behavior, exclude the relevant entries before the concat operation.\n",
      "  team_df.loc[-1] = [pd.NA, pd.NA, tier, team, pd.NA, pd.NA, pd.NA, 4.5] #, avg_points]\n",
      "/var/folders/xl/qrck89yn5kq2bhd8vf0657700000gn/T/ipykernel_97640/3388888520.py:44: SettingWithCopyWarning: \n",
      "A value is trying to be set on a copy of a slice from a DataFrame\n",
      "\n",
      "See the caveats in the documentation: https://pandas.pydata.org/pandas-docs/stable/user_guide/indexing.html#returning-a-view-versus-a-copy\n",
      "  team_df.loc[-1] = [pd.NA, pd.NA, tier, team, pd.NA, pd.NA, pd.NA, 4.5] #, avg_points]\n",
      "/var/folders/xl/qrck89yn5kq2bhd8vf0657700000gn/T/ipykernel_97640/3388888520.py:44: FutureWarning: The behavior of DataFrame concatenation with empty or all-NA entries is deprecated. In a future version, this will no longer exclude empty or all-NA columns when determining the result dtypes. To retain the old behavior, exclude the relevant entries before the concat operation.\n",
      "  team_df.loc[-1] = [pd.NA, pd.NA, tier, team, pd.NA, pd.NA, pd.NA, 4.5] #, avg_points]\n",
      "/var/folders/xl/qrck89yn5kq2bhd8vf0657700000gn/T/ipykernel_97640/3388888520.py:44: SettingWithCopyWarning: \n",
      "A value is trying to be set on a copy of a slice from a DataFrame\n",
      "\n",
      "See the caveats in the documentation: https://pandas.pydata.org/pandas-docs/stable/user_guide/indexing.html#returning-a-view-versus-a-copy\n",
      "  team_df.loc[-1] = [pd.NA, pd.NA, tier, team, pd.NA, pd.NA, pd.NA, 4.5] #, avg_points]\n",
      "/var/folders/xl/qrck89yn5kq2bhd8vf0657700000gn/T/ipykernel_97640/3388888520.py:44: FutureWarning: The behavior of DataFrame concatenation with empty or all-NA entries is deprecated. In a future version, this will no longer exclude empty or all-NA columns when determining the result dtypes. To retain the old behavior, exclude the relevant entries before the concat operation.\n",
      "  team_df.loc[-1] = [pd.NA, pd.NA, tier, team, pd.NA, pd.NA, pd.NA, 4.5] #, avg_points]\n",
      "/var/folders/xl/qrck89yn5kq2bhd8vf0657700000gn/T/ipykernel_97640/3388888520.py:44: SettingWithCopyWarning: \n",
      "A value is trying to be set on a copy of a slice from a DataFrame\n",
      "\n",
      "See the caveats in the documentation: https://pandas.pydata.org/pandas-docs/stable/user_guide/indexing.html#returning-a-view-versus-a-copy\n",
      "  team_df.loc[-1] = [pd.NA, pd.NA, tier, team, pd.NA, pd.NA, pd.NA, 4.5] #, avg_points]\n",
      "/var/folders/xl/qrck89yn5kq2bhd8vf0657700000gn/T/ipykernel_97640/3388888520.py:44: FutureWarning: The behavior of DataFrame concatenation with empty or all-NA entries is deprecated. In a future version, this will no longer exclude empty or all-NA columns when determining the result dtypes. To retain the old behavior, exclude the relevant entries before the concat operation.\n",
      "  team_df.loc[-1] = [pd.NA, pd.NA, tier, team, pd.NA, pd.NA, pd.NA, 4.5] #, avg_points]\n",
      "/var/folders/xl/qrck89yn5kq2bhd8vf0657700000gn/T/ipykernel_97640/3388888520.py:44: SettingWithCopyWarning: \n",
      "A value is trying to be set on a copy of a slice from a DataFrame\n",
      "\n",
      "See the caveats in the documentation: https://pandas.pydata.org/pandas-docs/stable/user_guide/indexing.html#returning-a-view-versus-a-copy\n",
      "  team_df.loc[-1] = [pd.NA, pd.NA, tier, team, pd.NA, pd.NA, pd.NA, 4.5] #, avg_points]\n"
     ]
    }
   ],
   "source": [
    "team_points2, df_out = calculate_points_corrected(combined2)"
   ]
  },
  {
   "cell_type": "code",
   "execution_count": 16,
   "id": "fa5f4472-1fdb-4b18-aa5d-aa765337e896",
   "metadata": {},
   "outputs": [],
   "source": [
    "for i in range (13, 0, -1):\n",
    "    #print(df_out[df_out.Tier == i].sort_values([\"Tier\", 'Points'], ascending=False).shape)\n",
    "    assert df_out[df_out.Tier == i].sort_values([\"Tier\", 'Points'], ascending=False).shape == (8,8)"
   ]
  },
  {
   "cell_type": "code",
   "execution_count": 9,
   "id": "baf75482-ba83-4b58-88dd-81a6e32383fb",
   "metadata": {},
   "outputs": [
    {
     "data": {
      "text/plain": [
       "{'Mitch Perreault': 52,\n",
       " 'Will Carter': 73,\n",
       " 'Stephanie Coward': 55.0,\n",
       " 'Mike McTaggart': 64,\n",
       " 'Don French ': 67,\n",
       " 'Joanna Perreault': 50.5,\n",
       " 'Adam Grossman': 68,\n",
       " 'Graham Ramshaw ': 41.5}"
      ]
     },
     "execution_count": 9,
     "metadata": {},
     "output_type": "execute_result"
    }
   ],
   "source": [
    "team_points1"
   ]
  },
  {
   "cell_type": "code",
   "execution_count": 10,
   "id": "7f46b317-1a44-4ef6-a4da-109d96344c21",
   "metadata": {},
   "outputs": [],
   "source": [
    "for team, new_points in team_points2.items():\n",
    "    team_points1[team] += new_points"
   ]
  },
  {
   "cell_type": "code",
   "execution_count": 11,
   "id": "7511f00f-9f8e-44d5-8ffe-f91b13236e32",
   "metadata": {},
   "outputs": [
    {
     "data": {
      "text/plain": [
       "{'Mitch Perreault': 97,\n",
       " 'Will Carter': 145,\n",
       " 'Stephanie Coward': 107.0,\n",
       " 'Mike McTaggart': 140,\n",
       " 'Don French ': 132,\n",
       " 'Joanna Perreault': 111.0,\n",
       " 'Adam Grossman': 119,\n",
       " 'Graham Ramshaw ': 89.0}"
      ]
     },
     "execution_count": 11,
     "metadata": {},
     "output_type": "execute_result"
    }
   ],
   "source": [
    "team_points1"
   ]
  },
  {
   "cell_type": "code",
   "execution_count": 12,
   "id": "ea137a5d-f220-416e-b116-2c0a2be6cebf",
   "metadata": {},
   "outputs": [],
   "source": [
    "df_out.to_csv(\"210124_scores_groupbyClub.csv\")"
   ]
  },
  {
   "cell_type": "code",
   "execution_count": 13,
   "id": "79653769-1282-4d6c-a9a3-621bd743f0d1",
   "metadata": {},
   "outputs": [],
   "source": [
    "df_out.sort_values([\"Tier\", 'Points'], ascending=False).to_csv(\"210124_scores_groupbyTier.csv\")"
   ]
  },
  {
   "cell_type": "code",
   "execution_count": null,
   "id": "a61967e3-1df2-42d8-b425-cbbf7d663310",
   "metadata": {},
   "outputs": [],
   "source": []
  },
  {
   "cell_type": "code",
   "execution_count": 14,
   "id": "856c8c75-74fb-430e-8c42-7e656c55f628",
   "metadata": {},
   "outputs": [
    {
     "data": {
      "text/html": [
       "<div>\n",
       "<style scoped>\n",
       "    .dataframe tbody tr th:only-of-type {\n",
       "        vertical-align: middle;\n",
       "    }\n",
       "\n",
       "    .dataframe tbody tr th {\n",
       "        vertical-align: top;\n",
       "    }\n",
       "\n",
       "    .dataframe thead th {\n",
       "        text-align: right;\n",
       "    }\n",
       "</style>\n",
       "<table border=\"1\" class=\"dataframe\">\n",
       "  <thead>\n",
       "    <tr style=\"text-align: right;\">\n",
       "      <th></th>\n",
       "      <th>Bib</th>\n",
       "      <th>Name</th>\n",
       "      <th>Tier</th>\n",
       "      <th>Club</th>\n",
       "      <th>Run1</th>\n",
       "      <th>Run2</th>\n",
       "      <th>Best Time</th>\n",
       "      <th>Points</th>\n",
       "    </tr>\n",
       "  </thead>\n",
       "  <tbody>\n",
       "    <tr>\n",
       "      <th>96</th>\n",
       "      <td>120</td>\n",
       "      <td>Hannah Kilmer Choi</td>\n",
       "      <td>13</td>\n",
       "      <td>Will Carter</td>\n",
       "      <td>38.07</td>\n",
       "      <td>9999.00</td>\n",
       "      <td>38.07</td>\n",
       "      <td>8.0</td>\n",
       "    </tr>\n",
       "    <tr>\n",
       "      <th>10</th>\n",
       "      <td>119</td>\n",
       "      <td>Jenna Livingston</td>\n",
       "      <td>13</td>\n",
       "      <td>Stephanie Coward</td>\n",
       "      <td>42.45</td>\n",
       "      <td>41.35</td>\n",
       "      <td>41.35</td>\n",
       "      <td>7.0</td>\n",
       "    </tr>\n",
       "    <tr>\n",
       "      <th>11</th>\n",
       "      <td>121</td>\n",
       "      <td>Graham Ramshaw</td>\n",
       "      <td>13</td>\n",
       "      <td>Graham Ramshaw</td>\n",
       "      <td>44.74</td>\n",
       "      <td>42.34</td>\n",
       "      <td>42.34</td>\n",
       "      <td>6.0</td>\n",
       "    </tr>\n",
       "    <tr>\n",
       "      <th>98</th>\n",
       "      <td>122</td>\n",
       "      <td>Kevin Kilmer Choi</td>\n",
       "      <td>13</td>\n",
       "      <td>Adam Grossman</td>\n",
       "      <td>42.47</td>\n",
       "      <td>9999.00</td>\n",
       "      <td>42.47</td>\n",
       "      <td>5.0</td>\n",
       "    </tr>\n",
       "    <tr>\n",
       "      <th>12</th>\n",
       "      <td>&lt;NA&gt;</td>\n",
       "      <td>NaN</td>\n",
       "      <td>13</td>\n",
       "      <td>Joanna Perreault</td>\n",
       "      <td>NaN</td>\n",
       "      <td>NaN</td>\n",
       "      <td>NaN</td>\n",
       "      <td>4.5</td>\n",
       "    </tr>\n",
       "    <tr>\n",
       "      <th>93</th>\n",
       "      <td>116</td>\n",
       "      <td>Melanie Leistner Lavoie</td>\n",
       "      <td>13</td>\n",
       "      <td>Mike McTaggart</td>\n",
       "      <td>42.87</td>\n",
       "      <td>42.92</td>\n",
       "      <td>42.87</td>\n",
       "      <td>4.0</td>\n",
       "    </tr>\n",
       "    <tr>\n",
       "      <th>99</th>\n",
       "      <td>123</td>\n",
       "      <td>Bernard Oegema</td>\n",
       "      <td>13</td>\n",
       "      <td>Don French</td>\n",
       "      <td>46.00</td>\n",
       "      <td>44.35</td>\n",
       "      <td>44.35</td>\n",
       "      <td>3.0</td>\n",
       "    </tr>\n",
       "    <tr>\n",
       "      <th>94</th>\n",
       "      <td>117</td>\n",
       "      <td>Kyla Taylor</td>\n",
       "      <td>13</td>\n",
       "      <td>Mitch Perreault</td>\n",
       "      <td>52.10</td>\n",
       "      <td>50.80</td>\n",
       "      <td>50.80</td>\n",
       "      <td>2.0</td>\n",
       "    </tr>\n",
       "  </tbody>\n",
       "</table>\n",
       "</div>"
      ],
      "text/plain": [
       "     Bib                     Name  Tier              Club   Run1     Run2  \\\n",
       "96   120       Hannah Kilmer Choi    13       Will Carter  38.07  9999.00   \n",
       "10   119         Jenna Livingston    13  Stephanie Coward  42.45    41.35   \n",
       "11   121           Graham Ramshaw    13   Graham Ramshaw   44.74    42.34   \n",
       "98   122        Kevin Kilmer Choi    13     Adam Grossman  42.47  9999.00   \n",
       "12  <NA>                      NaN    13  Joanna Perreault    NaN      NaN   \n",
       "93   116  Melanie Leistner Lavoie    13    Mike McTaggart  42.87    42.92   \n",
       "99   123           Bernard Oegema    13       Don French   46.00    44.35   \n",
       "94   117              Kyla Taylor    13   Mitch Perreault  52.10    50.80   \n",
       "\n",
       "    Best Time  Points  \n",
       "96      38.07     8.0  \n",
       "10      41.35     7.0  \n",
       "11      42.34     6.0  \n",
       "98      42.47     5.0  \n",
       "12        NaN     4.5  \n",
       "93      42.87     4.0  \n",
       "99      44.35     3.0  \n",
       "94      50.80     2.0  "
      ]
     },
     "execution_count": 14,
     "metadata": {},
     "output_type": "execute_result"
    }
   ],
   "source": [
    "df_out[df_out.Tier == 13].sort_values([\"Tier\", 'Points'], ascending=False).head(10)"
   ]
  },
  {
   "cell_type": "code",
   "execution_count": 14,
   "id": "e510e2dc-a936-4b20-8513-56b72eb21804",
   "metadata": {},
   "outputs": [
    {
     "name": "stdout",
     "output_type": "stream",
     "text": [
      "(8, 8)\n",
      "(8, 8)\n",
      "(8, 8)\n",
      "(8, 8)\n",
      "(8, 8)\n",
      "(8, 8)\n",
      "(8, 8)\n",
      "(8, 8)\n",
      "(8, 8)\n",
      "(8, 8)\n",
      "(8, 8)\n",
      "(8, 8)\n",
      "(8, 8)\n"
     ]
    }
   ],
   "source": []
  },
  {
   "cell_type": "code",
   "execution_count": null,
   "id": "757ea670-9772-4cb7-9648-bc08d0b70339",
   "metadata": {},
   "outputs": [],
   "source": []
  }
 ],
 "metadata": {
  "kernelspec": {
   "display_name": "Python 3 (ipykernel)",
   "language": "python",
   "name": "python3"
  },
  "language_info": {
   "codemirror_mode": {
    "name": "ipython",
    "version": 3
   },
   "file_extension": ".py",
   "mimetype": "text/x-python",
   "name": "python",
   "nbconvert_exporter": "python",
   "pygments_lexer": "ipython3",
   "version": "3.11.5"
  }
 },
 "nbformat": 4,
 "nbformat_minor": 5
}
