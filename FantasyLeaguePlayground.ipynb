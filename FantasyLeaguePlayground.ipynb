{
 "cells": [
  {
   "cell_type": "code",
   "execution_count": 1,
   "id": "02e17301-d07d-4fab-98f5-bb0246735a00",
   "metadata": {},
   "outputs": [],
   "source": [
    "import pandas as pd\n",
    "\n",
    "# Load the CSV files\n",
    "teams_df = pd.read_csv('data/2024/FantasyFnG_2024.csv')\n",
    "race1_df = pd.read_csv('data/2024/140124_scores_groupbyTier.csv')\n",
    "race2_df = pd.read_csv('data/2024/210124_scores_groupbyTier.csv')"
   ]
  },
  {
   "cell_type": "code",
   "execution_count": 2,
   "id": "28d23ae4-2f10-4e08-9997-c525353225f0",
   "metadata": {},
   "outputs": [],
   "source": [
    "# Create a mapping of skier names to points for each race\n",
    "race1_points = race1_df.set_index('Name')['Points'].to_dict()\n",
    "race2_points = race2_df.set_index('Name')['Points'].to_dict()\n",
    "\n",
    "all_races = [race1_points, race2_points]"
   ]
  },
  {
   "cell_type": "code",
   "execution_count": 3,
   "id": "5a5aae9b-defd-4671-807f-431014e316b1",
   "metadata": {},
   "outputs": [],
   "source": [
    "# Initialize a list to hold the team scores\n",
    "team_scores = []\n",
    "detailed_team_scores = {}"
   ]
  },
  {
   "cell_type": "code",
   "execution_count": 4,
   "id": "b25bd251-6d1f-4d4d-8c4e-65e784d25b5a",
   "metadata": {},
   "outputs": [],
   "source": [
    "# Iterate over each team\n",
    "for _, team in teams_df.iterrows():\n",
    "    team_name = team['Fantasy Team Name']\n",
    "    team_details = {'Total Points': 0, 'Racers': {}}\n",
    "    \n",
    "    # Iterate over each tier column to get the skier's name and add their points from each race\n",
    "    for tier in range(1, 14):\n",
    "        skier_name = team[f'Tier{tier}']\n",
    "        if not pd.isna(skier_name):  # Check if skier name is not NaN\n",
    "            race1_points_skier = race1_points.get(skier_name, 0)\n",
    "            race2_points_skier = race2_points.get(skier_name, 0)\n",
    "            \n",
    "            # Add points to the team's total score\n",
    "            team_details['Total Points'] += race1_points_skier + race2_points_skier\n",
    "            \n",
    "            # Record the racer's points breakdown\n",
    "            team_details['Racers'][skier_name] = {\n",
    "                'Race 1 Points': race1_points_skier,\n",
    "                'Race 2 Points': race2_points_skier\n",
    "            }\n",
    "    \n",
    "    # Add the team's details to the dictionary\n",
    "    detailed_team_scores[team_name] = team_details"
   ]
  },
  {
   "cell_type": "code",
   "execution_count": 5,
   "id": "09deb40e-e12c-4341-a4d9-6115c0de4b38",
   "metadata": {},
   "outputs": [
    {
     "name": "stdout",
     "output_type": "stream",
     "text": [
      "Set up to win has 76.0\n",
      "Rudolph Garmisch Crew has 89.0\n",
      "rickeybobbie has 94.0\n",
      "C321A has 95.0\n",
      "All Fun little Glory has 98.0\n",
      "Suzanne's Quick Finishers has 99.0\n",
      "Will's RealGudPros  has 98.0\n",
      "Red Brick Bruisers has 78.0\n",
      "Topshelf  has 106.0\n",
      "Insider Trading has 123.0\n",
      "KKC's Ringers has 98.0\n",
      "EKC's Ringers has 110.0\n",
      "Rut Riders has 112.0\n",
      "Slalom on Challenge! has 94.0\n"
     ]
    }
   ],
   "source": [
    "for team, details in detailed_team_scores.items():\n",
    "    print(team, \"has\", details[\"Total Points\"])"
   ]
  },
  {
   "cell_type": "code",
   "execution_count": 6,
   "id": "68569500-3c2b-4be7-9971-fd365c23fe76",
   "metadata": {},
   "outputs": [],
   "source": [
    "# Extract total points and team names from detailed_team_scores for the summary page\n",
    "summary_data = [{'Team Name': team_name, 'Total Points': details['Total Points']}\n",
    "                for team_name, details in detailed_team_scores.items()]\n",
    "\n",
    "# Convert the summary data to a dataframe\n",
    "summary_df = pd.DataFrame(summary_data)\n",
    "\n",
    "# Sort the teams by 'Total Points' in descending order\n",
    "summary_df = summary_df.sort_values(by='Total Points', ascending=False).reset_index(drop=True)"
   ]
  },
  {
   "cell_type": "code",
   "execution_count": 7,
   "id": "9ef32c20-2bd5-4da9-aba8-be72cab074e9",
   "metadata": {},
   "outputs": [],
   "source": [
    "# Recreate the Pandas Excel writer\n",
    "writer = pd.ExcelWriter('data/2024/FantasySkiLeagueResults_Aggregated.xlsx', engine='xlsxwriter')\n",
    "\n",
    "# Write the summary dataframe to the first sheet\n",
    "summary_df.to_excel(writer, sheet_name='Summary', index=False)\n",
    "\n",
    "# Iterate over the detailed scores dictionary and write each team's details to a separate sheet\n",
    "for team_name, details in detailed_team_scores.items():\n",
    "    # Convert team_name to string and handle None or NaN values\n",
    "    team_name_str = 'Unknown Team' if pd.isna(team_name) else str(team_name)\n",
    "    \n",
    "    # Create a dataframe from the team's racer details\n",
    "    racers_df = pd.DataFrame(details['Racers']).T\n",
    "    racers_df.index.name = 'Racer Name'\n",
    "    racers_df.reset_index(inplace=True)\n",
    "    \n",
    "    # Write the team's dataframe to a sheet named after the team\n",
    "    racers_df.to_excel(writer, sheet_name=team_name_str[:31], index=False)  # Excel sheet name has max 31 characters\n",
    "\n",
    "# Close the Pandas Excel writer and save the Excel file\n",
    "writer.save()"
   ]
  },
  {
   "cell_type": "code",
   "execution_count": null,
   "id": "ff45572f-02aa-4ff9-817c-0b52b2c7e761",
   "metadata": {},
   "outputs": [],
   "source": []
  },
  {
   "cell_type": "code",
   "execution_count": null,
   "id": "4a905c90-2ea1-4543-a771-37e2135d7395",
   "metadata": {},
   "outputs": [],
   "source": []
  }
 ],
 "metadata": {
  "kernelspec": {
   "display_name": "Python 3 (ipykernel)",
   "language": "python",
   "name": "python3"
  },
  "language_info": {
   "codemirror_mode": {
    "name": "ipython",
    "version": 3
   },
   "file_extension": ".py",
   "mimetype": "text/x-python",
   "name": "python",
   "nbconvert_exporter": "python",
   "pygments_lexer": "ipython3",
   "version": "3.8.10"
  }
 },
 "nbformat": 4,
 "nbformat_minor": 5
}
